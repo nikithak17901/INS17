{
  "nbformat": 4,
  "nbformat_minor": 0,
  "metadata": {
    "colab": {
      "provenance": [],
      "authorship_tag": "ABX9TyOOmGvFs8Q5AxCX3IEIiVfV",
      "include_colab_link": true
    },
    "kernelspec": {
      "name": "python3",
      "display_name": "Python 3"
    },
    "language_info": {
      "name": "python"
    }
  },
  "cells": [
    {
      "cell_type": "markdown",
      "metadata": {
        "id": "view-in-github",
        "colab_type": "text"
      },
      "source": [
        "<a href=\"https://colab.research.google.com/github/nikithak17901/INS17/blob/main/CCIPHER.ipynb\" target=\"_parent\"><img src=\"https://colab.research.google.com/assets/colab-badge.svg\" alt=\"Open In Colab\"/></a>"
      ]
    },
    {
      "cell_type": "code",
      "execution_count": 1,
      "metadata": {
        "colab": {
          "base_uri": "https://localhost:8080/"
        },
        "id": "aKLKIfxCVR3H",
        "outputId": "178e5b4b-97da-4715-8903-7c5da0797800"
      },
      "outputs": [
        {
          "output_type": "stream",
          "name": "stdout",
          "text": [
            "Enter the text to encrypt:hello\n",
            "Enter the key:3\n",
            "Cipher text: khoor\n",
            "Enter the cipher text:nikki\n",
            "Enter the key:2\n",
            "Plain text: lgiig\n"
          ]
        }
      ],
      "source": [
        "\n",
        "def encrypt(plain_text, key):\n",
        "    cipherText = \"\"\n",
        "    for char in plain_text:\n",
        "        if char.isalpha():\n",
        "            shift_base = ord('A') if char.isupper() else ord('a')\n",
        "            cipherText += chr((ord(char) - shift_base + key) % 26 + shift_base)\n",
        "        else:\n",
        "            cipherText += char\n",
        "    return cipherText\n",
        "\n",
        "# Decryption\n",
        "def decrypt(text, key):\n",
        "    pText = \"\"\n",
        "    for char in text:\n",
        "        if char.isalpha():\n",
        "            shift_base = ord('A') if char.isupper() else ord('a')\n",
        "            pText += chr((ord(char) - shift_base - key) % 26 + shift_base)\n",
        "        else:\n",
        "            pText += char\n",
        "    return pText\n",
        "\n",
        "plain_text=input(\"Enter the text to encrypt:\")\n",
        "key=int(input(\"Enter the key:\"))\n",
        "print(\"Cipher text:\",encrypt(plain_text,key))\n",
        "text=input(\"Enter the cipher text:\")\n",
        "key=int(input(\"Enter the key:\"))\n",
        "print(\"Plain text:\",decrypt(text,key))"
      ]
    }
  ]
}