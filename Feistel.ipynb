{
  "nbformat": 4,
  "nbformat_minor": 0,
  "metadata": {
    "colab": {
      "provenance": [],
      "authorship_tag": "ABX9TyO7+XIkxv3JYP7n4dYvK2TS",
      "include_colab_link": true
    },
    "kernelspec": {
      "name": "python3",
      "display_name": "Python 3"
    },
    "language_info": {
      "name": "python"
    }
  },
  "cells": [
    {
      "cell_type": "markdown",
      "metadata": {
        "id": "view-in-github",
        "colab_type": "text"
      },
      "source": [
        "<a href=\"https://colab.research.google.com/github/nikithak17901/INS17/blob/main/Feistel.ipynb\" target=\"_parent\"><img src=\"https://colab.research.google.com/assets/colab-badge.svg\" alt=\"Open In Colab\"/></a>"
      ]
    },
    {
      "cell_type": "code",
      "execution_count": 10,
      "metadata": {
        "colab": {
          "base_uri": "https://localhost:8080/"
        },
        "id": "aKLKIfxCVR3H",
        "outputId": "b2ebc685-7c49-407f-c3f3-6b50bcbb765a"
      },
      "outputs": [
        {
          "output_type": "stream",
          "name": "stdout",
          "text": [
            "Plaintext:  (204, 170)\n",
            "Ciphertext:  (15, 105)\n",
            "Decrypted Plaintext:  (204, 204)\n"
          ]
        }
      ],
      "source": [
        "def feistel_function(right_half, round_key):\n",
        "    return right_half ^ round_key\n",
        "\n",
        "def feistel_round(left_half, right_half, round_key):\n",
        "    new_right = left_half ^ feistel_function(right_half, round_key)\n",
        "    return right_half, new_right\n",
        "\n",
        "def encrypt(plaintext, keys):\n",
        "    left, right = plaintext\n",
        "    for round_key in keys:\n",
        "        left, right = feistel_round(left, right, round_key)\n",
        "    return left, right\n",
        "\n",
        "def decrypt(ciphertext, keys):\n",
        "    left, right = ciphertext\n",
        "    for round_key in reversed(keys):\n",
        "        left, right = feistel_round(left, right, round_key)\n",
        "    return left, right\n",
        "\n",
        "\n",
        "if __name__ == '__main__':\n",
        "\n",
        "    plaintext = (0b11001100, 0b10101010)\n",
        "\n",
        "    keys = [0b11110000, 0b00001111, 0b10101010, 0b01010101]\n",
        "\n",
        "    print(\"Plaintext: \", plaintext)\n",
        "\n",
        "    # Encryption\n",
        "    ciphertext = encrypt(plaintext, keys)\n",
        "    print(\"Ciphertext: \", ciphertext)\n",
        "\n",
        "    # Decryption\n",
        "    decrypted_plaintext = decrypt(ciphertext, keys)\n",
        "    print(\"Decrypted Plaintext: \", decrypted_plaintext)"
      ]
    }
  ]
}