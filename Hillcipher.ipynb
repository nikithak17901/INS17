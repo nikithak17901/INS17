{
  "nbformat": 4,
  "nbformat_minor": 0,
  "metadata": {
    "colab": {
      "provenance": [],
      "authorship_tag": "ABX9TyOKLG49+QWVzJuK4c6zTPR0",
      "include_colab_link": true
    },
    "kernelspec": {
      "name": "python3",
      "display_name": "Python 3"
    },
    "language_info": {
      "name": "python"
    }
  },
  "cells": [
    {
      "cell_type": "markdown",
      "metadata": {
        "id": "view-in-github",
        "colab_type": "text"
      },
      "source": [
        "<a href=\"https://colab.research.google.com/github/nikithak17901/INS17/blob/main/Hillcipher.ipynb\" target=\"_parent\"><img src=\"https://colab.research.google.com/assets/colab-badge.svg\" alt=\"Open In Colab\"/></a>"
      ]
    },
    {
      "cell_type": "code",
      "execution_count": 2,
      "metadata": {
        "colab": {
          "base_uri": "https://localhost:8080/"
        },
        "id": "aKLKIfxCVR3H",
        "outputId": "312791c1-796d-4f43-a250-937b267113b1"
      },
      "outputs": [
        {
          "output_type": "stream",
          "name": "stdout",
          "text": [
            "Enter the text:HELLO\n",
            "Encrypted: TFJJZX\n"
          ]
        }
      ],
      "source": [
        "import numpy as np\n",
        "\n",
        "def encrypt(plaintext,key_matrix):\n",
        "    n = len(key_matrix)\n",
        "    plaintext = plaintext.upper().replace(\" \", \"\")\n",
        "    if len(plaintext) % n != 0:\n",
        "        plaintext += \"X\" * (n - len(plaintext) % n)\n",
        "\n",
        "    vector = [ord(char) - ord('A') for char in plaintext]\n",
        "    ciphertext = \"\"\n",
        "\n",
        "    for i in range(0, len(vector), n):\n",
        "        block = vector[i:i + n]\n",
        "        result = np.dot(key_matrix, block) % 26\n",
        "        ciphertext += \"\".join(chr(num + ord('A')) for num in result)\n",
        "    return ciphertext\n",
        "\n",
        "plaintext = input(\"Enter the text:\")\n",
        "key_matrix = np.array([[6, 24, 1], [13, 16, 10], [20, 17, 15]])\n",
        "print(\"Encrypted:\", encrypt(plaintext, key_matrix))\n",
        "\n",
        "# plaintext = \"SHORT\"\n",
        "# key_matrix = np.array([[7,8], [11,11]])\n",
        "# print(\"Encrypted:\", encrypt(plaintext, key_matrix))"
      ]
    }
  ]
}