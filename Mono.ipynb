{
  "nbformat": 4,
  "nbformat_minor": 0,
  "metadata": {
    "colab": {
      "provenance": [],
      "authorship_tag": "ABX9TyOVjVNaRUdD1uMq2RU5JIo4",
      "include_colab_link": true
    },
    "kernelspec": {
      "name": "python3",
      "display_name": "Python 3"
    },
    "language_info": {
      "name": "python"
    }
  },
  "cells": [
    {
      "cell_type": "markdown",
      "metadata": {
        "id": "view-in-github",
        "colab_type": "text"
      },
      "source": [
        "<a href=\"https://colab.research.google.com/github/nikithak17901/INS17/blob/main/Mono.ipynb\" target=\"_parent\"><img src=\"https://colab.research.google.com/assets/colab-badge.svg\" alt=\"Open In Colab\"/></a>"
      ]
    },
    {
      "cell_type": "code",
      "execution_count": 3,
      "metadata": {
        "colab": {
          "base_uri": "https://localhost:8080/"
        },
        "id": "aKLKIfxCVR3H",
        "outputId": "ce81dea7-dc30-4d57-b771-825685d38e46"
      },
      "outputs": [
        {
          "output_type": "stream",
          "name": "stdout",
          "text": [
            "ENTER THE MESSAGE TO ENCRYPT: hello\n",
            "Encrypted message: ITSSG\n",
            "ENTER THE MESSAGE TO DECRYPT: nikki\n",
            "Decrypted message: yhrrh\n"
          ]
        }
      ],
      "source": [
        "\n",
        "p = 'abcdefghijklmnopqrstuvwxyz'\n",
        "ch = 'QWERTYUIOPASDFGHJKLZXCVBNM'\n",
        "\n",
        "# Encryption\n",
        "def encrypt(text):\n",
        "    encrypted_text = ''\n",
        "    for char in text:\n",
        "        if char in p:\n",
        "            encrypted_text += ch[p.index(char)]\n",
        "        else:\n",
        "            encrypted_text += char\n",
        "\n",
        "    return encrypted_text\n",
        "\n",
        "# Decryption\n",
        "def decrypt(text):\n",
        "    decrypted_text = ''\n",
        "    for char in text:\n",
        "        if char in ch:\n",
        "            decrypted_text += p[ch.index(char)]\n",
        "        else:\n",
        "            decrypted_text += char\n",
        "\n",
        "    return decrypted_text\n",
        "\n",
        "message = input(\"ENTER THE MESSAGE TO ENCRYPT: \").lower()\n",
        "eText = encrypt(message)\n",
        "print(\"Encrypted message:\", eText)\n",
        "message = input(\"ENTER THE MESSAGE TO DECRYPT: \").upper()\n",
        "dText = decrypt(message)\n",
        "print(\"Decrypted message:\", dText)"
      ]
    }
  ]
}