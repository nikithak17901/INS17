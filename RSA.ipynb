{
  "nbformat": 4,
  "nbformat_minor": 0,
  "metadata": {
    "colab": {
      "provenance": [],
      "authorship_tag": "ABX9TyOOm1L3MWXk4Bf1vXy6zh+E",
      "include_colab_link": true
    },
    "kernelspec": {
      "name": "python3",
      "display_name": "Python 3"
    },
    "language_info": {
      "name": "python"
    }
  },
  "cells": [
    {
      "cell_type": "markdown",
      "metadata": {
        "id": "view-in-github",
        "colab_type": "text"
      },
      "source": [
        "<a href=\"https://colab.research.google.com/github/nikithak17901/INS17/blob/main/RSA.ipynb\" target=\"_parent\"><img src=\"https://colab.research.google.com/assets/colab-badge.svg\" alt=\"Open In Colab\"/></a>"
      ]
    },
    {
      "cell_type": "code",
      "execution_count": 3,
      "metadata": {
        "colab": {
          "base_uri": "https://localhost:8080/"
        },
        "id": "ySrhcqW3lRj9",
        "outputId": "0efe7f05-aa9e-48e0-e7fe-b2876553af69"
      },
      "outputs": [
        {
          "output_type": "stream",
          "name": "stdout",
          "text": [
            "Enter the value of p (prime number): 11\n",
            "Enter the value of q (another prime number): 17\n",
            "Enter a message (integer to encrypt): 88\n",
            "Encrypted message: 44\n",
            "Decrypted message: 88\n"
          ]
        }
      ],
      "source": [
        "def gcd(a, b):\n",
        "    while b:\n",
        "        a, b = b, a % b\n",
        "    return a\n",
        "\n",
        "def RSA(p, q, msg):\n",
        "    n = p * q\n",
        "    phi = (p - 1) * (q - 1)\n",
        "\n",
        "\n",
        "    for i in range(2, phi):\n",
        "        if gcd(i, phi) == 1:\n",
        "            e = i\n",
        "            break\n",
        "\n",
        "\n",
        "    j = 0\n",
        "    while True:\n",
        "        if (j * e) % phi == 1:\n",
        "            d = j\n",
        "            break\n",
        "        j += 1\n",
        "\n",
        "\n",
        "    c = (msg ** e) % n\n",
        "    print(\"Encrypted message:\", c)\n",
        "\n",
        "\n",
        "    decrypted_msg = (c ** d) % n\n",
        "    print(\"Decrypted message:\", decrypted_msg)\n",
        "\n",
        "p = int(input(\"Enter the value of p (prime number): \"))\n",
        "q = int(input(\"Enter the value of q (another prime number): \"))\n",
        "msg = int(input(\"Enter a message (integer to encrypt): \"))\n",
        "RSA(p, q, msg)\n"
      ]
    },
    {
      "cell_type": "code",
      "source": [],
      "metadata": {
        "id": "5QaAbuZZqCnp"
      },
      "execution_count": null,
      "outputs": []
    }
  ]
}