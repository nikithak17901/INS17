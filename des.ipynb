{
  "nbformat": 4,
  "nbformat_minor": 0,
  "metadata": {
    "colab": {
      "provenance": [],
      "authorship_tag": "ABX9TyODmjs20oGKlp5ZnY4bR8YS",
      "include_colab_link": true
    },
    "kernelspec": {
      "name": "python3",
      "display_name": "Python 3"
    },
    "language_info": {
      "name": "python"
    }
  },
  "cells": [
    {
      "cell_type": "markdown",
      "metadata": {
        "id": "view-in-github",
        "colab_type": "text"
      },
      "source": [
        "<a href=\"https://colab.research.google.com/github/nikithak17901/INS17/blob/main/des.ipynb\" target=\"_parent\"><img src=\"https://colab.research.google.com/assets/colab-badge.svg\" alt=\"Open In Colab\"/></a>"
      ]
    },
    {
      "cell_type": "code",
      "execution_count": 1,
      "metadata": {
        "colab": {
          "base_uri": "https://localhost:8080/"
        },
        "id": "ySrhcqW3lRj9",
        "outputId": "9c62cd97-873f-4054-defb-977449627ff1"
      },
      "outputs": [
        {
          "output_type": "stream",
          "name": "stdout",
          "text": [
            "Enter a string: hello\n",
            "Key  1  =  1110110000\n",
            "Key  2  =  110000100000\n",
            "Key  3  =  110110000001000000\n",
            "Key  4  =  10010000110000000000\n",
            "Key  5  =  11001000\n",
            "Key  6  =  101100000010100000\n",
            "Key  7  =  1001100010100000\n",
            "Key  8  =  110010000000010100000000\n"
          ]
        }
      ],
      "source": [
        "import random\n",
        "\n",
        "def string_to_bin(s):\n",
        "    # Convert string to binary representation\n",
        "    return ''.join(format(ord(i), '08b') for i in s)\n",
        "\n",
        "# Get the user input\n",
        "s = input(\"Enter a string: \")\n",
        "result = string_to_bin(s)\n",
        "\n",
        "# Ensure the binary representation is long enough (for example, at least 16 bits)\n",
        "if len(result) < 16:\n",
        "    print(\"The input string does not produce enough bits for processing.\")\n",
        "    exit()\n",
        "\n",
        "# Split result into left and right halves (16 bits total expected)\n",
        "left = result[:8]\n",
        "right = result[8:16]\n",
        "lt = [2, 3, 6, 7, 1, 6, 5, 9]\n",
        "keys = []\n",
        "\n",
        "# Generate keys\n",
        "for shift in lt:\n",
        "    newKey = \"\"\n",
        "\n",
        "    # Convert left and right to integers\n",
        "    nl = int(left, 2)\n",
        "    nr = int(right, 2)\n",
        "\n",
        "    # Perform the left bitwise shift\n",
        "    nl = nl << shift\n",
        "    nr = nr << shift\n",
        "\n",
        "    # Convert back to binary and ensure it is padded to 8 bits\n",
        "    nl_bin = bin(nl)[2:].zfill(8)\n",
        "    nr_bin = bin(nr)[2:].zfill(8)\n",
        "\n",
        "    newKey = nr_bin + nl_bin  # Concatenate right and left shifted values\n",
        "\n",
        "    # Randomly select indices to exclude from the newKey\n",
        "    rm = random.sample(range(len(newKey)), min(8, len(newKey)))\n",
        "\n",
        "    newAnswer = \"\"\n",
        "    for i in range(len(newKey)):\n",
        "        if i not in rm:\n",
        "            newAnswer += newKey[i]\n",
        "\n",
        "    keys.append(newAnswer)  # Store the generated key\n",
        "\n",
        "# Print the generated keys\n",
        "for i in range(len(keys)):\n",
        "    print(\"Key \", i + 1, \" = \", keys[i])"
      ]
    }
  ]
}