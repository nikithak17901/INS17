{
  "nbformat": 4,
  "nbformat_minor": 0,
  "metadata": {
    "colab": {
      "provenance": [],
      "authorship_tag": "ABX9TyOKZvHaUiOqHXgEy9TF40KA",
      "include_colab_link": true
    },
    "kernelspec": {
      "name": "python3",
      "display_name": "Python 3"
    },
    "language_info": {
      "name": "python"
    }
  },
  "cells": [
    {
      "cell_type": "markdown",
      "metadata": {
        "id": "view-in-github",
        "colab_type": "text"
      },
      "source": [
        "<a href=\"https://colab.research.google.com/github/nikithak17901/INS17/blob/main/playfair.ipynb\" target=\"_parent\"><img src=\"https://colab.research.google.com/assets/colab-badge.svg\" alt=\"Open In Colab\"/></a>"
      ]
    },
    {
      "cell_type": "code",
      "execution_count": 7,
      "metadata": {
        "colab": {
          "base_uri": "https://localhost:8080/"
        },
        "id": "aKLKIfxCVR3H",
        "outputId": "d6ba16ce-c336-4b8a-e266-64e9e83a5f33"
      },
      "outputs": [
        {
          "output_type": "stream",
          "name": "stdout",
          "text": [
            "Enter the plain text: hello\n",
            "Enter the key: 2\n",
            "Encrypted message: IFMMNY\n",
            "Enter the cipher text: ruv\n",
            "Enter the key: 2\n",
            "Decrypted message: PWUW\n"
          ]
        }
      ],
      "source": [
        "def create_matrix(key):\n",
        "    alphabet = \"ABCDEFGHIKLMNOPQRSTUVWXYZ\"\n",
        "    matrix = []\n",
        "    key = \"\".join(dict.fromkeys(key.upper().replace(\"J\", \"I\") + alphabet))\n",
        "    for i in range(0, 25, 5):\n",
        "        matrix.append(list(key[i:i + 5]))\n",
        "    return matrix\n",
        "\n",
        "def find_position(matrix, char):\n",
        "    for row in range(5):\n",
        "        for col in range(5):\n",
        "            if matrix[row][col] == char:\n",
        "                return row, col\n",
        "\n",
        "\n",
        "def encrypt(ptext, key):\n",
        "    matrix = create_matrix(key)\n",
        "    ptext = ptext.upper().replace(\"J\", \"I\").replace(\" \", \"\")\n",
        "\n",
        "    if len(ptext) % 2 != 0:\n",
        "        ptext += \"X\"\n",
        "\n",
        "    ciphertext = \"\"\n",
        "    for i in range(0, len(ptext), 2):\n",
        "        a, b = ptext[i], ptext[i + 1]\n",
        "        row1, col1 = find_position(matrix, a)\n",
        "        row2, col2 = find_position(matrix, b)\n",
        "\n",
        "        if row1 == row2:\n",
        "            ciphertext += matrix[row1][(col1 + 1) % 5] + matrix[row2][(col2 + 1) % 5]\n",
        "        elif col1 == col2:\n",
        "            ciphertext += matrix[(row1 + 1) % 5][col1] + matrix[(row2 + 1) % 5][col2]\n",
        "        else:\n",
        "            ciphertext += matrix[row1][col2] + matrix[row2][col1]\n",
        "    return ciphertext\n",
        "\n",
        "def decrypt(text, key):\n",
        "    matrix = create_matrix(key)\n",
        "    text = text.upper().replace(\"J\", \"I\").replace(\" \", \"\")\n",
        "\n",
        "\n",
        "    if len(text) % 2 != 0:\n",
        "        text += \"X\"\n",
        "\n",
        "    plaintext = \"\"\n",
        "    for i in range(0, len(text), 2):\n",
        "        a, b = text[i], text[i + 1]\n",
        "        row1, col1 = find_position(matrix, a)\n",
        "        row2, col2 = find_position(matrix, b)\n",
        "\n",
        "        if row1 == row2:\n",
        "            plaintext += matrix[row1][(col1 - 1) % 5] + matrix[row2][(col2 - 1) % 5]\n",
        "        elif col1 == col2:\n",
        "            plaintext += matrix[(row1 - 1) % 5][col1] + matrix[(row2 - 1) % 5][col2]\n",
        "        else:\n",
        "            plaintext += matrix[row1][col2] + matrix[row2][col1]\n",
        "    return plaintext\n",
        "\n",
        "# Inputs\n",
        "ptext = input(\"Enter the plain text: \")\n",
        "key = input(\"Enter the key: \")\n",
        "print(\"Encrypted message:\", encrypt(ptext, key))\n",
        "\n",
        "text = input(\"Enter the cipher text: \")\n",
        "key = input(\"Enter the key: \")\n",
        "print(\"Decrypted message:\", decrypt(text, key))"
      ]
    }
  ]
}