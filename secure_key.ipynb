{
  "nbformat": 4,
  "nbformat_minor": 0,
  "metadata": {
    "colab": {
      "provenance": [],
      "authorship_tag": "ABX9TyODbgZ+/LHGyp+q6UnurHSV",
      "include_colab_link": true
    },
    "kernelspec": {
      "name": "python3",
      "display_name": "Python 3"
    },
    "language_info": {
      "name": "python"
    }
  },
  "cells": [
    {
      "cell_type": "markdown",
      "metadata": {
        "id": "view-in-github",
        "colab_type": "text"
      },
      "source": [
        "<a href=\"https://colab.research.google.com/github/nikithak17901/INS17/blob/main/secure_key.ipynb\" target=\"_parent\"><img src=\"https://colab.research.google.com/assets/colab-badge.svg\" alt=\"Open In Colab\"/></a>"
      ]
    },
    {
      "cell_type": "code",
      "execution_count": 1,
      "metadata": {
        "colab": {
          "base_uri": "https://localhost:8080/"
        },
        "id": "J-keb0OotAHr",
        "outputId": "e1685d01-4596-4cc0-eb9e-266635bbd5a9"
      },
      "outputs": [
        {
          "output_type": "stream",
          "name": "stdout",
          "text": [
            "Decrypted AES: Sensitive Data\n",
            "Decrypted RSA: Confidential\n",
            "DH Public Key: <cryptography.hazmat.bindings._rust.openssl.dh.DHPublicKey object at 0x7f55c98c1bf0>\n",
            "Revocation Result: Key Revoked Successfully\n",
            "Expected error after key revocation: 'user123'\n"
          ]
        }
      ],
      "source": [
        "from cryptography.hazmat.primitives.asymmetric import rsa, padding\n",
        "from cryptography.hazmat.primitives.asymmetric.dh import generate_parameters\n",
        "from cryptography.hazmat.primitives.kdf.pbkdf2 import PBKDF2HMAC\n",
        "from cryptography.hazmat.primitives import hashes, serialization\n",
        "from cryptography.hazmat.primitives.ciphers import Cipher, algorithms, modes\n",
        "import os\n",
        "import base64\n",
        "from cryptography.hazmat.primitives.padding import PKCS7\n",
        "\n",
        "\n",
        "class SecureKeyManagementSystem:\n",
        "    def __init__(self):\n",
        "        self.symmetric_keys = {}\n",
        "        self.asymmetric_keys = {}\n",
        "\n",
        "    def generate_aes_key(self, key_id):\n",
        "        key = os.urandom(32)\n",
        "        self.symmetric_keys[key_id] = key\n",
        "        return base64.b64encode(key).decode()\n",
        "\n",
        "    def generate_rsa_key_pair(self, user_id):\n",
        "        private_key = rsa.generate_private_key(\n",
        "            public_exponent=65537,\n",
        "            key_size=2048\n",
        "        )\n",
        "        public_key = private_key.public_key()\n",
        "        self.asymmetric_keys[user_id] = (private_key, public_key)\n",
        "        return public_key\n",
        "\n",
        "    def encrypt_with_aes(self, key_id, plaintext):\n",
        "        key = self.symmetric_keys[key_id]\n",
        "        iv = os.urandom(16)\n",
        "        cipher = Cipher(algorithms.AES(key), modes.CBC(iv))\n",
        "        encryptor = cipher.encryptor()\n",
        "        padder = PKCS7(algorithms.AES.block_size).padder()\n",
        "        padded_data = padder.update(plaintext.encode()) + padder.finalize()\n",
        "        ciphertext = encryptor.update(padded_data) + encryptor.finalize()\n",
        "        return base64.b64encode(iv + ciphertext).decode()\n",
        "\n",
        "    def decrypt_with_aes(self, key_id, encrypted_data):\n",
        "        key = self.symmetric_keys[key_id]\n",
        "        encrypted_data = base64.b64decode(encrypted_data)\n",
        "        iv, ciphertext = encrypted_data[:16], encrypted_data[16:]\n",
        "        cipher = Cipher(algorithms.AES(key), modes.CBC(iv))\n",
        "        decryptor = cipher.decryptor()\n",
        "        decrypted_padded = decryptor.update(ciphertext) + decryptor.finalize()\n",
        "        unpadder = PKCS7(algorithms.AES.block_size).unpadder()\n",
        "        plaintext = unpadder.update(decrypted_padded) + unpadder.finalize()\n",
        "        return plaintext.decode()\n",
        "\n",
        "    def encrypt_with_rsa(self, user_id, plaintext):\n",
        "\n",
        "        _, public_key = self.asymmetric_keys[user_id]\n",
        "        encrypted = public_key.encrypt(\n",
        "            plaintext.encode(),\n",
        "            padding.PKCS1v15()\n",
        "        )\n",
        "        return base64.b64encode(encrypted).decode()\n",
        "\n",
        "    def decrypt_with_rsa(self, user_id, encrypted_data):\n",
        "        # Use PKCS1v15 padding for RSA decryption\n",
        "        private_key, _ = self.asymmetric_keys[user_id]\n",
        "        encrypted_data = base64.b64decode(encrypted_data)\n",
        "        decrypted = private_key.decrypt(\n",
        "            encrypted_data,\n",
        "            padding.PKCS1v15()\n",
        "        )\n",
        "        return decrypted.decode()\n",
        "\n",
        "    def generate_diffie_hellman_key(self):\n",
        "        parameters = generate_parameters(generator=2, key_size=2048)\n",
        "        private_key = parameters.generate_private_key()\n",
        "        public_key = private_key.public_key()\n",
        "        return private_key, public_key\n",
        "\n",
        "    def key_revocation(self, key_id):\n",
        "        if key_id in self.symmetric_keys:\n",
        "            del self.symmetric_keys[key_id]\n",
        "        elif key_id in self.asymmetric_keys:\n",
        "            del self.asymmetric_keys[key_id]\n",
        "        return \"Key Revoked Successfully\"\n",
        "\n",
        "# Test Cases\n",
        "\n",
        "\n",
        "kms = SecureKeyManagementSystem()\n",
        "\n",
        "\n",
        "aes_key_id = \"user123\"\n",
        "kms.generate_aes_key(aes_key_id)\n",
        "aes_ciphertext = kms.encrypt_with_aes(aes_key_id, \"Sensitive Data\")\n",
        "aes_decrypted_text = kms.decrypt_with_aes(aes_key_id, aes_ciphertext)\n",
        "print(\"Decrypted AES:\", aes_decrypted_text)\n",
        "\n",
        "rsa_user = \"userRSA\"\n",
        "kms.generate_rsa_key_pair(rsa_user)\n",
        "rsa_enc_data = kms.encrypt_with_rsa(rsa_user, \"Confidential\")\n",
        "rsa_dec_data = kms.decrypt_with_rsa(rsa_user, rsa_enc_data)\n",
        "print(\"Decrypted RSA:\", rsa_dec_data)\n",
        "\n",
        "dh_private, dh_public = kms.generate_diffie_hellman_key()\n",
        "print(\"DH Public Key:\", dh_public)\n",
        "\n",
        "\n",
        "revocation_result = kms.key_revocation(aes_key_id)\n",
        "print(\"Revocation Result:\", revocation_result)\n",
        "\n",
        "\n",
        "try:\n",
        "    kms.decrypt_with_aes(aes_key_id, aes_ciphertext)\n",
        "except Exception as e:\n",
        "    print(\"Expected error after key revocation:\", e)"
      ]
    }
  ]
}