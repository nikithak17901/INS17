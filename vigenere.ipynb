{
  "nbformat": 4,
  "nbformat_minor": 0,
  "metadata": {
    "colab": {
      "provenance": [],
      "authorship_tag": "ABX9TyPXr2BPvj8nn5P8CmBHHGet",
      "include_colab_link": true
    },
    "kernelspec": {
      "name": "python3",
      "display_name": "Python 3"
    },
    "language_info": {
      "name": "python"
    }
  },
  "cells": [
    {
      "cell_type": "markdown",
      "metadata": {
        "id": "view-in-github",
        "colab_type": "text"
      },
      "source": [
        "<a href=\"https://colab.research.google.com/github/nikithak17901/INS17/blob/main/vigenere.ipynb\" target=\"_parent\"><img src=\"https://colab.research.google.com/assets/colab-badge.svg\" alt=\"Open In Colab\"/></a>"
      ]
    },
    {
      "cell_type": "code",
      "execution_count": 8,
      "metadata": {
        "colab": {
          "base_uri": "https://localhost:8080/"
        },
        "id": "aKLKIfxCVR3H",
        "outputId": "d1c3b074-9c09-46c1-8cfd-cad25c600496"
      },
      "outputs": [
        {
          "output_type": "stream",
          "name": "stdout",
          "text": [
            "Enter the plaintextheyy\n",
            "Enter the key6\n",
            "Encrypted: WTNN\n"
          ]
        }
      ],
      "source": [
        "def vigenere_encrypt(plaintext, key):\n",
        "    key = key.upper()\n",
        "    ciphertext = \"\"\n",
        "    key_index = 0\n",
        "    for char in plaintext.upper():\n",
        "        if char.isalpha():\n",
        "            shift = ord(key[key_index]) - ord('A')\n",
        "            ciphertext += chr((ord(char) - ord('A') + shift) % 26 + ord('A'))\n",
        "            key_index = (key_index + 1) % len(key)\n",
        "        else:\n",
        "            ciphertext += char\n",
        "    return ciphertext\n",
        "\n",
        "# Example usage\n",
        "plaintext = input(\"Enter the plaintext\")\n",
        "key = input(\"Enter the key\")\n",
        "print(\"Encrypted:\", vigenere_encrypt(plaintext, key))"
      ]
    }
  ]
}